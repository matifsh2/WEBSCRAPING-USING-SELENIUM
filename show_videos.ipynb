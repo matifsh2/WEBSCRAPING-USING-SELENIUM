{
 "cells": [
  {
   "cell_type": "code",
   "execution_count": 4,
   "metadata": {},
   "outputs": [],
   "source": [
    "import pandas as pd"
   ]
  },
  {
   "cell_type": "code",
   "execution_count": 9,
   "metadata": {},
   "outputs": [],
   "source": [
    "videos=pd.read_csv('Top_10.csv')"
   ]
  },
  {
   "cell_type": "code",
   "execution_count": 10,
   "metadata": {},
   "outputs": [
    {
     "data": {
      "text/html": [
       "<div>\n",
       "<style scoped>\n",
       "    .dataframe tbody tr th:only-of-type {\n",
       "        vertical-align: middle;\n",
       "    }\n",
       "\n",
       "    .dataframe tbody tr th {\n",
       "        vertical-align: top;\n",
       "    }\n",
       "\n",
       "    .dataframe thead th {\n",
       "        text-align: right;\n",
       "    }\n",
       "</style>\n",
       "<table border=\"1\" class=\"dataframe\">\n",
       "  <thead>\n",
       "    <tr style=\"text-align: right;\">\n",
       "      <th></th>\n",
       "      <th>title</th>\n",
       "      <th>title_url</th>\n",
       "      <th>thumbnail</th>\n",
       "      <th>channel_name</th>\n",
       "      <th>Description</th>\n",
       "      <th>Views</th>\n",
       "    </tr>\n",
       "  </thead>\n",
       "  <tbody>\n",
       "    <tr>\n",
       "      <th>0</th>\n",
       "      <td>Wait for revenge 😎 #shorts #bewafa</td>\n",
       "      <td>https://www.youtube.com/shorts/15sAm0HaB6E</td>\n",
       "      <td>https://i.ytimg.com/vi/15sAm0HaB6E/hq720_2.jpg...</td>\n",
       "      <td>Bobby chourasiya</td>\n",
       "      <td>Wait for revenge 😎 #shorts #bewafa</td>\n",
       "      <td>Bobby chourasiya\\n•\\n69M views\\n5 days ago</td>\n",
       "    </tr>\n",
       "    <tr>\n",
       "      <th>1</th>\n",
       "      <td>Stunning Last-Over Win | Full Highlights | Pak...</td>\n",
       "      <td>https://www.youtube.com/watch?v=hsJhr1edaOk</td>\n",
       "      <td>https://i.ytimg.com/vi/hsJhr1edaOk/hqdefault.j...</td>\n",
       "      <td>Pakistan Cricket</td>\n",
       "      <td>Stunning Last-Over Win | Full Highlights | Pak...</td>\n",
       "      <td>Pakistan Cricket\\n3M views\\n5 days ago</td>\n",
       "    </tr>\n",
       "    <tr>\n",
       "      <th>2</th>\n",
       "      <td>I MET NASEEM SHAH ❤️</td>\n",
       "      <td>https://www.youtube.com/watch?v=qN3ET4pMyJ8</td>\n",
       "      <td>https://i.ytimg.com/vi/qN3ET4pMyJ8/hqdefault.j...</td>\n",
       "      <td>Ducky Bhai</td>\n",
       "      <td>I MET NASEEM SHAH ❤️</td>\n",
       "      <td>Ducky Bhai\\n1.7M views\\n3 days ago</td>\n",
       "    </tr>\n",
       "    <tr>\n",
       "      <th>3</th>\n",
       "      <td>I AM BACK ❤️</td>\n",
       "      <td>https://www.youtube.com/watch?v=9A0Ln4Atvxc</td>\n",
       "      <td>https://i.ytimg.com/vi/9A0Ln4Atvxc/hqdefault.j...</td>\n",
       "      <td>Ducky Bhai</td>\n",
       "      <td>I AM BACK ❤️</td>\n",
       "      <td>Ducky Bhai\\n1.5M views\\n5 days ago</td>\n",
       "    </tr>\n",
       "    <tr>\n",
       "      <th>4</th>\n",
       "      <td>Full Highlights | Pakistan vs England | 5th T2...</td>\n",
       "      <td>https://www.youtube.com/watch?v=XB7ch9MT8fY</td>\n",
       "      <td>https://i.ytimg.com/vi/XB7ch9MT8fY/hqdefault.j...</td>\n",
       "      <td>Pakistan Cricket</td>\n",
       "      <td>Full Highlights | Pakistan vs England | 5th T2...</td>\n",
       "      <td>Pakistan Cricket\\n2.4M views\\n2 days ago</td>\n",
       "    </tr>\n",
       "  </tbody>\n",
       "</table>\n",
       "</div>"
      ],
      "text/plain": [
       "                                               title  \\\n",
       "0                 Wait for revenge 😎 #shorts #bewafa   \n",
       "1  Stunning Last-Over Win | Full Highlights | Pak...   \n",
       "2                               I MET NASEEM SHAH ❤️   \n",
       "3                                       I AM BACK ❤️   \n",
       "4  Full Highlights | Pakistan vs England | 5th T2...   \n",
       "\n",
       "                                     title_url  \\\n",
       "0   https://www.youtube.com/shorts/15sAm0HaB6E   \n",
       "1  https://www.youtube.com/watch?v=hsJhr1edaOk   \n",
       "2  https://www.youtube.com/watch?v=qN3ET4pMyJ8   \n",
       "3  https://www.youtube.com/watch?v=9A0Ln4Atvxc   \n",
       "4  https://www.youtube.com/watch?v=XB7ch9MT8fY   \n",
       "\n",
       "                                           thumbnail      channel_name  \\\n",
       "0  https://i.ytimg.com/vi/15sAm0HaB6E/hq720_2.jpg...  Bobby chourasiya   \n",
       "1  https://i.ytimg.com/vi/hsJhr1edaOk/hqdefault.j...  Pakistan Cricket   \n",
       "2  https://i.ytimg.com/vi/qN3ET4pMyJ8/hqdefault.j...        Ducky Bhai   \n",
       "3  https://i.ytimg.com/vi/9A0Ln4Atvxc/hqdefault.j...        Ducky Bhai   \n",
       "4  https://i.ytimg.com/vi/XB7ch9MT8fY/hqdefault.j...  Pakistan Cricket   \n",
       "\n",
       "                                         Description  \\\n",
       "0                 Wait for revenge 😎 #shorts #bewafa   \n",
       "1  Stunning Last-Over Win | Full Highlights | Pak...   \n",
       "2                               I MET NASEEM SHAH ❤️   \n",
       "3                                       I AM BACK ❤️   \n",
       "4  Full Highlights | Pakistan vs England | 5th T2...   \n",
       "\n",
       "                                        Views  \n",
       "0  Bobby chourasiya\\n•\\n69M views\\n5 days ago  \n",
       "1      Pakistan Cricket\\n3M views\\n5 days ago  \n",
       "2          Ducky Bhai\\n1.7M views\\n3 days ago  \n",
       "3          Ducky Bhai\\n1.5M views\\n5 days ago  \n",
       "4    Pakistan Cricket\\n2.4M views\\n2 days ago  "
      ]
     },
     "execution_count": 10,
     "metadata": {},
     "output_type": "execute_result"
    }
   ],
   "source": [
    "videos.head()"
   ]
  },
  {
   "cell_type": "code",
   "execution_count": 11,
   "metadata": {},
   "outputs": [
    {
     "data": {
      "text/plain": [
       "Index(['title', 'title_url', 'thumbnail', 'channel_name', 'Description',\n",
       "       'Views'],\n",
       "      dtype='object')"
      ]
     },
     "execution_count": 11,
     "metadata": {},
     "output_type": "execute_result"
    }
   ],
   "source": [
    "videos.columns"
   ]
  },
  {
   "cell_type": "code",
   "execution_count": null,
   "metadata": {},
   "outputs": [],
   "source": []
  }
 ],
 "metadata": {
  "kernelspec": {
   "display_name": "Python 3.8.5 64-bit",
   "language": "python",
   "name": "python3"
  },
  "language_info": {
   "codemirror_mode": {
    "name": "ipython",
    "version": 3
   },
   "file_extension": ".py",
   "mimetype": "text/x-python",
   "name": "python",
   "nbconvert_exporter": "python",
   "pygments_lexer": "ipython3",
   "version": "3.8.5"
  },
  "orig_nbformat": 4,
  "vscode": {
   "interpreter": {
    "hash": "9650cb4e16cdd4a8e8e2d128bf38d875813998db22a3c986335f89e0cb4d7bb2"
   }
  }
 },
 "nbformat": 4,
 "nbformat_minor": 2
}
